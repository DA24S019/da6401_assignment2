{
 "cells": [
  {
   "cell_type": "code",
   "execution_count": 1,
   "metadata": {},
   "outputs": [],
   "source": [
    "import os\n",
    "from torchvision import datasets, transforms\n",
    "from torch.utils.data import random_split, DataLoader"
   ]
  },
  {
   "cell_type": "code",
   "execution_count": 2,
   "metadata": {},
   "outputs": [],
   "source": [
    "def load_data(data_dir, val_fraction=0.2, image_size=(224, 224), batch_size=32):\n",
    "    \"\"\"\n",
    "    Loads train, validation, and test datasets from the iNaturalist_12K dataset structure.\n",
    "\n",
    "    Args:\n",
    "        data_dir (str): Path to the dataset folder (e.g., '../../inaturalist_12K')\n",
    "        val_fraction (float): Fraction of training data to use as validation\n",
    "        image_size (tuple): Target image size for resizing\n",
    "        batch_size (int): Batch size for DataLoader\n",
    "\n",
    "    Returns:\n",
    "        train_set, val_set, test_set: Split datasets\n",
    "        class_names: List of class names\n",
    "    \"\"\"\n",
    "\n",
    "    train_path = os.path.join(data_dir, \"train\")\n",
    "    test_path = os.path.join(data_dir, \"test\")\n",
    "\n",
    "    transform = transforms.Compose([\n",
    "        transforms.Resize(image_size),\n",
    "        transforms.ToTensor(),\n",
    "    ])\n",
    "\n",
    "    full_train_set = datasets.ImageFolder(train_path, transform=transform)\n",
    "    test_set = datasets.ImageFolder(test_path, transform=transform)\n",
    "\n",
    "    # Split full_train_set into train and val\n",
    "    total_size = len(full_train_set)\n",
    "    val_size = int(total_size * val_fraction)\n",
    "    train_size = total_size - val_size\n",
    "\n",
    "    train_set, val_set = random_split(full_train_set, [train_size, val_size])\n",
    "\n",
    "    class_names = full_train_set.classes\n",
    "\n",
    "    return train_set, val_set, test_set, class_names\n"
   ]
  },
  {
   "cell_type": "code",
   "execution_count": 3,
   "metadata": {},
   "outputs": [
    {
     "name": "stdout",
     "output_type": "stream",
     "text": [
      "Train size: 8000\n",
      "Validation size: 1999\n",
      "Test size: 2000\n",
      "Classes: ['Amphibia', 'Animalia', 'Arachnida', 'Aves', 'Fungi', 'Insecta', 'Mammalia', 'Mollusca', 'Plantae', 'Reptilia']\n"
     ]
    }
   ],
   "source": [
    "data_dir = \"../../inaturalist_12K\"\n",
    "train_set, val_set, test_set, class_names = load_data(data_dir)\n",
    "\n",
    "print(f\"Train size: {len(train_set)}\")\n",
    "print(f\"Validation size: {len(val_set)}\")\n",
    "print(f\"Test size: {len(test_set)}\")\n",
    "print(f\"Classes: {class_names}\")\n"
   ]
  },
  {
   "cell_type": "code",
   "execution_count": null,
   "metadata": {},
   "outputs": [],
   "source": []
  }
 ],
 "metadata": {
  "kernelspec": {
   "display_name": "base",
   "language": "python",
   "name": "python3"
  },
  "language_info": {
   "codemirror_mode": {
    "name": "ipython",
    "version": 3
   },
   "file_extension": ".py",
   "mimetype": "text/x-python",
   "name": "python",
   "nbconvert_exporter": "python",
   "pygments_lexer": "ipython3",
   "version": "3.12.4"
  }
 },
 "nbformat": 4,
 "nbformat_minor": 2
}
