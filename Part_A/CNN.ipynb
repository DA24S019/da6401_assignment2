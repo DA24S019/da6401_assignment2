{
 "cells": [
  {
   "cell_type": "code",
   "execution_count": 22,
   "metadata": {},
   "outputs": [],
   "source": [
    "import torch\n",
    "import torch.nn as nn\n",
    "import torch.nn.functional as F\n",
    "import pytorch_lightning as pl"
   ]
  },
  {
   "cell_type": "code",
   "execution_count": 23,
   "metadata": {},
   "outputs": [],
   "source": [
    "class CNN(pl.LightningModule):\n",
    "    def __init__(self,\n",
    "                 input_channels=3,\n",
    "                 conv_filters=[32, 64, 128, 256, 512],\n",
    "                 kernel_sizes=[3, 3, 3, 3, 3],\n",
    "                 activation='relu',\n",
    "                 dense_neurons=512,\n",
    "                 num_classes=10,\n",
    "                 lr=1e-3):\n",
    "        super().__init__()\n",
    "        self.save_hyperparameters()\n",
    "\n",
    "        # Dynamically set activation\n",
    "        self.activation_fn = self._get_activation_fn(activation)\n",
    "\n",
    "        # Build convolutional layers\n",
    "        layers = []\n",
    "        in_channels = input_channels\n",
    "        for out_channels, kernel_size in zip(conv_filters, kernel_sizes):\n",
    "            layers.append(nn.Conv2d(in_channels, out_channels, kernel_size=kernel_size, padding=kernel_size // 2))\n",
    "            layers.append(self.activation_fn)\n",
    "            layers.append(nn.MaxPool2d(kernel_size=2, stride=2))\n",
    "            in_channels = out_channels\n",
    "        self.conv_blocks = nn.Sequential(*layers)\n",
    "\n",
    "        # Infer flattened size after convolutions\n",
    "        with torch.no_grad():\n",
    "            dummy_input = torch.zeros(1, input_channels, 512, 512)  # assuming 224x224 image\n",
    "            dummy_output = self.conv_blocks(dummy_input)\n",
    "            flatten_dim = dummy_output.view(1, -1).shape[1]\n",
    "\n",
    "        # Dense classifier\n",
    "        self.classifier = nn.Sequential(\n",
    "            nn.Linear(flatten_dim, dense_neurons),\n",
    "            self.activation_fn,\n",
    "            nn.Linear(dense_neurons, num_classes)\n",
    "        )\n",
    "\n",
    "        self.loss_fn = nn.CrossEntropyLoss()\n",
    "        self.lr = lr\n",
    "\n",
    "    def _get_activation_fn(self, name):\n",
    "        name = name.lower()\n",
    "        if name == 'relu':\n",
    "            return nn.ReLU()\n",
    "        elif name == 'gelu':\n",
    "            return nn.GELU()\n",
    "        elif name == 'silu':\n",
    "            return nn.SiLU()\n",
    "        elif name == 'mish':\n",
    "            return nn.Mish()\n",
    "        else:\n",
    "            raise ValueError(f\"Unsupported activation: {name}\")\n",
    "\n",
    "    def forward(self, x):\n",
    "        x = self.conv_blocks(x)\n",
    "        x = x.view(x.size(0), -1)  # flatten\n",
    "        return self.classifier(x)\n",
    "\n",
    "    def training_step(self, batch, batch_idx):\n",
    "        x, y = batch\n",
    "        logits = self(x)\n",
    "        loss = self.loss_fn(logits, y)\n",
    "        self.log(\"train_loss\", loss)\n",
    "        return loss\n",
    "\n",
    "    def validation_step(self, batch, batch_idx):\n",
    "        x, y = batch\n",
    "        logits = self(x)\n",
    "        loss = self.loss_fn(logits, y)\n",
    "        acc = (logits.argmax(dim=1) == y).float().mean()\n",
    "        self.log(\"val_loss\", loss, prog_bar=True)\n",
    "        self.log(\"val_acc\", acc, prog_bar=True)\n",
    "\n",
    "    def test_step(self, batch, batch_idx):\n",
    "        x, y = batch\n",
    "        logits = self(x)\n",
    "        loss = self.loss_fn(logits, y)\n",
    "        acc = (logits.argmax(dim=1) == y).float().mean()\n",
    "        self.log(\"test_loss\", loss)\n",
    "        self.log(\"test_acc\", acc)\n",
    "\n",
    "    def configure_optimizers(self):\n",
    "        return torch.optim.Adam(self.parameters(), lr=self.lr)\n"
   ]
  },
  {
   "cell_type": "code",
   "execution_count": 24,
   "metadata": {},
   "outputs": [],
   "source": [
    "model = CNN(\n",
    "    input_channels=3,\n",
    "    conv_filters=[64, 128, 256, 512, 512],\n",
    "    kernel_sizes=[3, 3, 3, 3, 3],\n",
    "    activation='gelu',\n",
    "    dense_neurons=1024,\n",
    "    num_classes=10\n",
    ")\n"
   ]
  },
  {
   "cell_type": "code",
   "execution_count": null,
   "metadata": {},
   "outputs": [
    {
     "name": "stdout",
     "output_type": "stream",
     "text": [
      "Output shape: torch.Size([4, 10])\n"
     ]
    }
   ],
   "source": [
    "\n",
    "# Set the model to evaluation mode\n",
    "model.eval()\n",
    "\n",
    "# Create a dummy input (batch size = 4, 3 channels, 224x224 image)\n",
    "dummy_input = torch.randn(4, 3, 512, 512)\n",
    "\n",
    "# Forward pass through the model\n",
    "with torch.no_grad():\n",
    "    output = model(dummy_input)\n",
    "\n",
    "# Output shape\n",
    "print(f\"Output shape: {output.shape}\")"
   ]
  },
  {
   "cell_type": "code",
   "execution_count": null,
   "metadata": {},
   "outputs": [],
   "source": []
  }
 ],
 "metadata": {
  "kernelspec": {
   "display_name": "base",
   "language": "python",
   "name": "python3"
  },
  "language_info": {
   "codemirror_mode": {
    "name": "ipython",
    "version": 3
   },
   "file_extension": ".py",
   "mimetype": "text/x-python",
   "name": "python",
   "nbconvert_exporter": "python",
   "pygments_lexer": "ipython3",
   "version": "3.12.4"
  }
 },
 "nbformat": 4,
 "nbformat_minor": 2
}
