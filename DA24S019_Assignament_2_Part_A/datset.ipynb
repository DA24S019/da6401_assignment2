{
 "cells": [
  {
   "cell_type": "code",
   "execution_count": 22,
   "metadata": {},
   "outputs": [
    {
     "name": "stderr",
     "output_type": "stream",
     "text": [
      "usage: ipykernel_launcher.py [-h] [--initial_filters INITIAL_FILTERS]\n",
      "                             [--filter_size FILTER_SIZE]\n",
      "                             [--filter_pattern FILTER_PATTERN]\n",
      "                             [--activation ACTIVATION]\n",
      "                             [--dense_neurons DENSE_NEURONS]\n",
      "                             [--dropout DROPOUT] [--batchnorm] [--lr LR]\n",
      "                             [--batch_size BATCH_SIZE] [--data_augmentation]\n",
      "                             --wandb_project WANDB_PROJECT --wandb_entity\n",
      "                             WANDB_ENTITY\n",
      "ipykernel_launcher.py: error: ambiguous option: --f=/home/user/.local/share/jupyter/runtime/kernel-v39969d864b939d18ea76f0f404c1f4e77c6b5d96a.json could match --filter_size, --filter_pattern\n"
     ]
    },
    {
     "ename": "SystemExit",
     "evalue": "2",
     "output_type": "error",
     "traceback": [
      "An exception has occurred, use %tb to see the full traceback.\n",
      "\u001b[0;31mSystemExit\u001b[0m\u001b[0;31m:\u001b[0m 2\n"
     ]
    },
    {
     "name": "stderr",
     "output_type": "stream",
     "text": [
      "/home/user/anaconda3/lib/python3.12/site-packages/IPython/core/interactiveshell.py:3585: UserWarning: To exit: use 'exit', 'quit', or Ctrl-D.\n",
      "  warn(\"To exit: use 'exit', 'quit', or Ctrl-D.\", stacklevel=1)\n"
     ]
    }
   ],
   "source": []
  },
  {
   "cell_type": "code",
   "execution_count": null,
   "metadata": {},
   "outputs": [],
   "source": []
  }
 ],
 "metadata": {
  "kernelspec": {
   "display_name": "base",
   "language": "python",
   "name": "python3"
  },
  "language_info": {
   "codemirror_mode": {
    "name": "ipython",
    "version": 3
   },
   "file_extension": ".py",
   "mimetype": "text/x-python",
   "name": "python",
   "nbconvert_exporter": "python",
   "pygments_lexer": "ipython3",
   "version": "3.12.4"
  }
 },
 "nbformat": 4,
 "nbformat_minor": 2
}
